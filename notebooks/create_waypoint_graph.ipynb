{
 "cells": [
  {
   "cell_type": "code",
   "execution_count": 1,
   "id": "e6ac7cad",
   "metadata": {},
   "outputs": [],
   "source": [
    "import sys\n",
    "sys.path.insert(0, \"../../torchdriveenv\")"
   ]
  },
  {
   "cell_type": "code",
   "execution_count": 2,
   "id": "f88e18ca",
   "metadata": {},
   "outputs": [
    {
     "name": "stderr",
     "output_type": "stream",
     "text": [
      "/home/kezhang/work/stochastic-critic/.venv/lib/python3.10/site-packages/tqdm/auto.py:21: TqdmWarning: IProgress not found. Please update jupyter and ipywidgets. See https://ipywidgets.readthedocs.io/en/stable/user_install.html\n",
      "  from .autonotebook import tqdm as notebook_tqdm\n",
      "Commercial access denied and fallback to check for academic access.\n"
     ]
    }
   ],
   "source": [
    "import os\n",
    "import pickle\n",
    "import json\n",
    "\n",
    "from torchdriveenv.gym_env import Node"
   ]
  },
  {
   "cell_type": "code",
   "execution_count": 3,
   "id": "297b5a8c",
   "metadata": {},
   "outputs": [],
   "source": [
    "json_path = \"carla_Town03_scenario_waypoint_graph.json\""
   ]
  },
  {
   "cell_type": "code",
   "execution_count": 4,
   "id": "1979bfb8",
   "metadata": {},
   "outputs": [],
   "source": [
    "# json_path=os.path.join(data_dir, json_file)\n",
    "with open(json_path) as f:\n",
    "    data = json.load(f)"
   ]
  },
  {
   "cell_type": "code",
   "execution_count": 5,
   "id": "4c5174b0",
   "metadata": {},
   "outputs": [],
   "source": [
    "# data"
   ]
  },
  {
   "cell_type": "code",
   "execution_count": 6,
   "id": "36ecb44d",
   "metadata": {},
   "outputs": [],
   "source": [
    "waypoints = []\n",
    "for i, state in enumerate(data['individual_suggestions']['0']['states']):\n",
    "    waypoint = Node(id=i, point=(state['center']['x'], state['center']['y']), next_node_ids=[], next_edges=[])\n",
    "    waypoints.append(waypoint)"
   ]
  },
  {
   "cell_type": "code",
   "execution_count": 7,
   "id": "88c0d9b7",
   "metadata": {},
   "outputs": [],
   "source": [
    "waypoints[0].next_node_ids = [1]\n",
    "waypoints[0].next_edges = [1]\n",
    "\n",
    "waypoints[1].next_node_ids = [2]\n",
    "waypoints[1].next_edges = [1]\n",
    "\n",
    "waypoints[2].next_node_ids = [3, 10]\n",
    "waypoints[2].next_edges = [0.9, 0.1]\n",
    "\n",
    "waypoints[3].next_node_ids = [4]\n",
    "waypoints[3].next_edges = [1]\n",
    "\n",
    "waypoints[4].next_node_ids = [5, 12]\n",
    "waypoints[4].next_edges = [0.7, 0.3]\n",
    "\n",
    "waypoints[5].next_node_ids = [6]\n",
    "waypoints[5].next_edges = [1]\n",
    "\n",
    "waypoints[6].next_node_ids = [7, 14]\n",
    "waypoints[6].next_edges = [0.5, 0.5]\n",
    "\n",
    "waypoints[7].next_node_ids = [8]\n",
    "waypoints[7].next_edges = [1]\n",
    "\n",
    "waypoints[8].next_node_ids = [9, 16]\n",
    "waypoints[8].next_edges = [0.1, 0.9]\n",
    "\n",
    "waypoints[9].next_node_ids = [2]\n",
    "waypoints[9].next_edges = [1]\n",
    "\n",
    "waypoints[10].next_node_ids = [11]\n",
    "waypoints[10].next_edges = [1]\n",
    "\n",
    "waypoints[11].next_node_ids = []\n",
    "waypoints[11].next_edges = []\n",
    "\n",
    "waypoints[12].next_node_ids = [13]\n",
    "waypoints[12].next_edges = [1]\n",
    "\n",
    "waypoints[13].next_node_ids = []\n",
    "waypoints[13].next_edges = []\n",
    "\n",
    "waypoints[14].next_node_ids = [15]\n",
    "waypoints[14].next_edges = [1]\n",
    "\n",
    "waypoints[15].next_node_ids = []\n",
    "waypoints[15].next_edges = []\n",
    "\n",
    "waypoints[16].next_node_ids = [17]\n",
    "waypoints[16].next_edges = [1]\n",
    "\n",
    "waypoints[17].next_node_ids = []\n",
    "waypoints[17].next_edges = []"
   ]
  },
  {
   "cell_type": "code",
   "execution_count": 8,
   "id": "c73f536b",
   "metadata": {},
   "outputs": [
    {
     "data": {
      "text/plain": [
       "[Node(id=0, point=(50.967484397485215, -4.275350231478027), next_node_ids=[1], next_edges=[1]),\n",
       " Node(id=1, point=(25.683725525802057, -4.556280885607824), next_node_ids=[2], next_edges=[1]),\n",
       " Node(id=2, point=(14.727430014739305, -12.141408547112821), next_node_ids=[3, 10], next_edges=[0.9, 0.1]),\n",
       " Node(id=3, point=(-0.4428253082705922, -19.72653620861772), next_node_ids=[4], next_edges=[1]),\n",
       " Node(id=4, point=(-14.489358014761308, -13.546061817761803), next_node_ids=[5, 12], next_edges=[0.7, 0.3]),\n",
       " Node(id=5, point=(-20.669832405617214, -0.6232517277903769), next_node_ids=[6], next_edges=[1]),\n",
       " Node(id=6, point=(-16.73680324779977, 12.018627708051152), next_node_ids=[7, 14], next_edges=[0.5, 0.5]),\n",
       " Node(id=7, point=(-3.2521318495687552, 20.727477986075435), next_node_ids=[8], next_edges=[1]),\n",
       " Node(id=8, point=(13.32277674409022, 14.547003595219518), next_node_ids=[9, 16], next_edges=[0.1, 0.9]),\n",
       " Node(id=9, point=(19.784181789075934, 0.5004708887288081), next_node_ids=[2], next_edges=[1]),\n",
       " Node(id=10, point=(6.299510390844915, -25.62607994534384), next_node_ids=[11], next_edges=[1]),\n",
       " Node(id=11, point=(4.894857120195837, -44.167503117911494), next_node_ids=[], next_edges=[]),\n",
       " Node(id=12, point=(-26.28844548821344, -7.646518081035782), next_node_ids=[13], next_edges=[1]),\n",
       " Node(id=13, point=(-43.987076698391704, -2.5897663066991505), next_node_ids=[], next_edges=[]),\n",
       " Node(id=14, point=(-9.994467548684263, 23.2558538732437), next_node_ids=[15], next_edges=[1]),\n",
       " Node(id=15, point=(-7.1851610073861, 43.20193031646048), next_node_ids=[], next_edges=[]),\n",
       " Node(id=16, point=(26.245586834061648, 4.7144307006760515), next_node_ids=[17], next_edges=[1]),\n",
       " Node(id=17, point=(49.56283112683614, 4.433500046546255), next_node_ids=[], next_edges=[])]"
      ]
     },
     "execution_count": 8,
     "metadata": {},
     "output_type": "execute_result"
    }
   ],
   "source": [
    "waypoints"
   ]
  },
  {
   "cell_type": "code",
   "execution_count": 13,
   "id": "ef697fb6",
   "metadata": {},
   "outputs": [],
   "source": [
    "pickle_path = \"carla_Town03_scenario_waypoint_graph.pkl\"\n",
    "with open(pickle_path, \"wb\") as f:\n",
    "    pickle.dump(waypoints, f)"
   ]
  },
  {
   "cell_type": "code",
   "execution_count": 10,
   "id": "1e9a1464",
   "metadata": {},
   "outputs": [
    {
     "name": "stdout",
     "output_type": "stream",
     "text": [
      "/home/kezhang/work/fall_2024/energy-based-diffusion-model/notebooks\r\n"
     ]
    }
   ],
   "source": [
    "!pwd"
   ]
  },
  {
   "cell_type": "code",
   "execution_count": 11,
   "id": "9474aeb6",
   "metadata": {},
   "outputs": [
    {
     "name": "stdout",
     "output_type": "stream",
     "text": [
      "carla_Town03_scenario_waypoint_graph.json\r\n",
      "carla_Town03_scenario_waypoint_graph.pkl\r\n"
     ]
    }
   ],
   "source": [
    "!ls ../labeled_data"
   ]
  },
  {
   "cell_type": "code",
   "execution_count": null,
   "id": "5e20ed94",
   "metadata": {},
   "outputs": [],
   "source": []
  }
 ],
 "metadata": {
  "kernelspec": {
   "display_name": "stochastic-critic",
   "language": "python",
   "name": "stochastic-critic"
  },
  "language_info": {
   "codemirror_mode": {
    "name": "ipython",
    "version": 3
   },
   "file_extension": ".py",
   "mimetype": "text/x-python",
   "name": "python",
   "nbconvert_exporter": "python",
   "pygments_lexer": "ipython3",
   "version": "3.10.12"
  }
 },
 "nbformat": 4,
 "nbformat_minor": 5
}
