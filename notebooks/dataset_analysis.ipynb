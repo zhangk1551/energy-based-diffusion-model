{
 "cells": [
  {
   "cell_type": "code",
   "execution_count": 1,
   "id": "6780f522",
   "metadata": {},
   "outputs": [],
   "source": [
    "import sys\n",
    "sys.path.insert(0, \"../../torchdriveenv\")"
   ]
  },
  {
   "cell_type": "code",
   "execution_count": 2,
   "id": "57d457d0",
   "metadata": {},
   "outputs": [],
   "source": [
    "import cv2\n",
    "import io\n",
    "import os\n",
    "import pickle\n",
    "import random\n",
    "import torch\n",
    "import numpy as np\n",
    "\n",
    "from PIL import Image\n",
    "from matplotlib import pyplot as plt"
   ]
  },
  {
   "cell_type": "code",
   "execution_count": 3,
   "id": "95acd6e0",
   "metadata": {},
   "outputs": [],
   "source": [
    "def get_value(key, step_data):\n",
    "    if key == \"obs_birdview\":\n",
    "        return step_data.obs_birdview.squeeze()\n",
    "    if key == \"recurrent_state\":\n",
    "        return torch.Tensor(step_data.recurrent_states[0]).squeeze() # .cuda()\n",
    "    if key == \"action\":\n",
    "        return step_data.ego_action.squeeze()"
   ]
  },
  {
   "cell_type": "code",
   "execution_count": 4,
   "id": "37c5c0dd",
   "metadata": {},
   "outputs": [],
   "source": [
    "def to_video(pil_images, fps=10):\n",
    "\n",
    "    # Convert PIL images to numpy arrays\n",
    "    frames = [np.array(img) for img in pil_images]\n",
    "\n",
    "    # Get frame size (height, width)\n",
    "    height, width, layers = frames[0].shape\n",
    "    size = (width, height)\n",
    "\n",
    "    # Use in-memory buffer for video\n",
    "    output_buffer = io.BytesIO()\n",
    "\n",
    "    # Define video writer using OpenCV and FFMPEG with memory buffer\n",
    "    fourcc = cv2.VideoWriter_fourcc(*'mp4v')\n",
    "    video_writer = cv2.VideoWriter(\"output.mp4\",\n",
    "                                    fourcc, fps, size)\n",
    "\n",
    "    for frame in frames:\n",
    "        bgr_frame = cv2.cvtColor(frame, cv2.COLOR_RGB2BGR)\n",
    "        video_writer.write(bgr_frame)\n",
    "\n",
    "    video_writer.release()\n",
    "\n",
    "    output_buffer.seek(0)  # Reset buffer position to the start\n",
    "    return output_buffer"
   ]
  },
  {
   "cell_type": "code",
   "execution_count": 5,
   "id": "43327ba7",
   "metadata": {},
   "outputs": [],
   "source": [
    "def to_image(plt):\n",
    "    buf = io.BytesIO()\n",
    "    plt.savefig(buf, format='png', bbox_inches='tight', dpi=50)\n",
    "    buf.seek(0)\n",
    "    plt.close()\n",
    "    return Image.open(buf)\n",
    "\n",
    "\n",
    "def plot_samples(x):\n",
    "    x = x.cpu().numpy()\n",
    "    plt.scatter(x[1], x[0])\n",
    "    plt.xlim(-2, 2)\n",
    "    plt.ylim(-2, 2)\n",
    "    return to_image(plt)"
   ]
  },
  {
   "cell_type": "code",
   "execution_count": 7,
   "id": "cd526d52",
   "metadata": {},
   "outputs": [],
   "source": [
    "def visualize_episode(file_path):\n",
    "    obs_birdviews = []\n",
    "    actions = []\n",
    "    action_images = []\n",
    "    with open(file_path, \"rb\") as f:\n",
    "        episode_data = pickle.load(f)\n",
    "    print(episode_data)\n",
    "    for step_data in episode_data.step_data:\n",
    "        obs_birdviews.append(get_value(\"obs_birdview\", step_data))\n",
    "        action = get_value(\"action\", step_data)\n",
    "        actions.append(action)\n",
    "        action_images.append(plot_samples(action)) # .append(get_value(\"action\", step_data))\n",
    "        \n",
    "    return [Image.fromarray(img.astype(np.uint8).transpose(1, 2, 0), 'RGB') for img in obs_birdviews], \\\n",
    "            action_images, actions"
   ]
  },
  {
   "cell_type": "code",
   "execution_count": 8,
   "id": "e8dd08f0",
   "metadata": {},
   "outputs": [],
   "source": [
    "data_dir = \"../data/waypoint_graph_no_rendering_test\"\n",
    "file_paths = [os.path.join(data_dir, file) for file in os.listdir(data_dir)]\n",
    "# file_paths"
   ]
  },
  {
   "cell_type": "code",
   "execution_count": 11,
   "id": "658595bb",
   "metadata": {},
   "outputs": [
    {
     "name": "stdout",
     "output_type": "stream",
     "text": [
      "too short\n",
      "too short\n",
      "too short\n",
      "too short\n",
      "too short\n",
      "too short\n",
      "too short\n",
      "too short\n",
      "3   ../data/waypoint_graph_no_rendering_test/episode_67_72605.pkl\n",
      "8   ../data/waypoint_graph_no_rendering_test/episode_46_30204.pkl\n",
      "too short\n",
      "8   ../data/waypoint_graph_no_rendering_test/episode_74_602.pkl\n",
      "too short\n",
      "10   ../data/waypoint_graph_no_rendering_test/episode_86_12007.pkl\n",
      "too short\n",
      "too short\n",
      "too short\n",
      "4   ../data/waypoint_graph_no_rendering_test/episode_42_2628.pkl\n",
      "10   ../data/waypoint_graph_no_rendering_test/episode_70_55538.pkl\n",
      "10   ../data/waypoint_graph_no_rendering_test/episode_46_26128.pkl\n",
      "too short\n",
      "too short\n",
      "too short\n",
      "4   ../data/waypoint_graph_no_rendering_test/episode_31_71556.pkl\n",
      "8   ../data/waypoint_graph_no_rendering_test/episode_23_13161.pkl\n",
      "too short\n",
      "too short\n",
      "too short\n",
      "6   ../data/waypoint_graph_no_rendering_test/episode_75_50360.pkl\n",
      "too short\n",
      "5   ../data/waypoint_graph_no_rendering_test/episode_77_30144.pkl\n",
      "too short\n",
      "too short\n",
      "too short\n",
      "6   ../data/waypoint_graph_no_rendering_test/episode_45_97367.pkl\n",
      "too short\n",
      "too short\n",
      "5   ../data/waypoint_graph_no_rendering_test/episode_27_75519.pkl\n",
      "6   ../data/waypoint_graph_no_rendering_test/episode_84_32222.pkl\n",
      "too short\n",
      "too short\n",
      "too short\n",
      "too short\n",
      "too short\n",
      "too short\n",
      "too short\n",
      "too short\n",
      "too short\n",
      "too short\n",
      "too short\n",
      "too short\n",
      "too short\n",
      "too short\n",
      "10   ../data/waypoint_graph_no_rendering_test/episode_76_4996.pkl\n",
      "too short\n",
      "too short\n",
      "too short\n",
      "too short\n",
      "too short\n",
      "5   ../data/waypoint_graph_no_rendering_test/episode_40_33273.pkl\n",
      "9   ../data/waypoint_graph_no_rendering_test/episode_33_95656.pkl\n",
      "too short\n",
      "too short\n",
      "too short\n",
      "too short\n",
      "6   ../data/waypoint_graph_no_rendering_test/episode_34_92220.pkl\n",
      "too short\n",
      "10   ../data/waypoint_graph_no_rendering_test/episode_4_46497.pkl\n",
      "too short\n",
      "5   ../data/waypoint_graph_no_rendering_test/episode_91_38460.pkl\n",
      "6   ../data/waypoint_graph_no_rendering_test/episode_4_41890.pkl\n",
      "too short\n",
      "too short\n",
      "too short\n",
      "too short\n",
      "too short\n",
      "too short\n",
      "too short\n",
      "too short\n",
      "too short\n",
      "9   ../data/waypoint_graph_no_rendering_test/episode_13_57072.pkl\n",
      "too short\n",
      "6   ../data/waypoint_graph_no_rendering_test/episode_84_66441.pkl\n",
      "too short\n",
      "4   ../data/waypoint_graph_no_rendering_test/episode_42_2628.pkl\n",
      "too short\n",
      "9   ../data/waypoint_graph_no_rendering_test/episode_65_33777.pkl\n",
      "too short\n",
      "8   ../data/waypoint_graph_no_rendering_test/episode_0_60967.pkl\n",
      "too short\n",
      "5   ../data/waypoint_graph_no_rendering_test/episode_91_38460.pkl\n",
      "6   ../data/waypoint_graph_no_rendering_test/episode_9_3958.pkl\n",
      "too short\n",
      "too short\n",
      "too short\n",
      "too short\n",
      "3   ../data/waypoint_graph_no_rendering_test/episode_45_38232.pkl\n",
      "too short\n",
      "too short\n",
      "6   ../data/waypoint_graph_no_rendering_test/episode_30_74578.pkl\n"
     ]
    }
   ],
   "source": [
    "for i in range(100):\n",
    "    file_path = random.choice(file_paths)\n",
    "    with open(file_path, \"rb\") as f:\n",
    "        episode_data = pickle.load(f)\n",
    "#     print(episode_data)\n",
    "    if episode_data.step_data[-1].info[\"reached_waypoint_num\"] <= 2:\n",
    "        print(\"too short\")\n",
    "    else:\n",
    "        print(episode_data.step_data[-1].info[\"reached_waypoint_num\"], ' ', file_path)"
   ]
  },
  {
   "cell_type": "code",
   "execution_count": null,
   "id": "2511cca4",
   "metadata": {},
   "outputs": [],
   "source": []
  },
  {
   "cell_type": "code",
   "execution_count": null,
   "id": "68a587ec",
   "metadata": {},
   "outputs": [],
   "source": [
    "file_path = random.choice(file_paths)\n",
    "file_path "
   ]
  },
  {
   "cell_type": "code",
   "execution_count": null,
   "id": "61976829",
   "metadata": {},
   "outputs": [],
   "source": [
    "# file_path = '../data/waypoint_graph_no_rendering_test/episode_9_95910.pkl'"
   ]
  },
  {
   "cell_type": "code",
   "execution_count": null,
   "id": "3704f1a5",
   "metadata": {},
   "outputs": [],
   "source": [
    "# !ls -l ../data/itra_data/episode_2367_13523.pkl"
   ]
  },
  {
   "cell_type": "code",
   "execution_count": null,
   "id": "dd821260",
   "metadata": {},
   "outputs": [],
   "source": [
    "obs_images, action_images, actions = visualize_episode(file_path)"
   ]
  },
  {
   "cell_type": "code",
   "execution_count": null,
   "id": "c27c598c",
   "metadata": {},
   "outputs": [],
   "source": [
    "to_video(obs_images)"
   ]
  },
  {
   "cell_type": "code",
   "execution_count": null,
   "id": "f1be3c1c",
   "metadata": {},
   "outputs": [],
   "source": [
    "obs_images[0]"
   ]
  },
  {
   "cell_type": "code",
   "execution_count": null,
   "id": "6bf6a0dd",
   "metadata": {},
   "outputs": [],
   "source": [
    "actions"
   ]
  },
  {
   "cell_type": "code",
   "execution_count": null,
   "id": "0128a917",
   "metadata": {},
   "outputs": [],
   "source": [
    "np.argmax(torch.stack(actions).cpu(), axis=0)"
   ]
  },
  {
   "cell_type": "code",
   "execution_count": null,
   "id": "abf08608",
   "metadata": {},
   "outputs": [],
   "source": [
    "np.argmin(torch.stack(actions).cpu(), axis=0)"
   ]
  },
  {
   "cell_type": "code",
   "execution_count": null,
   "id": "c09fcf59",
   "metadata": {},
   "outputs": [],
   "source": [
    "actions[11]"
   ]
  },
  {
   "cell_type": "code",
   "execution_count": null,
   "id": "15276b45",
   "metadata": {},
   "outputs": [],
   "source": [
    "# actions[97]"
   ]
  },
  {
   "cell_type": "code",
   "execution_count": null,
   "id": "c5acbf20",
   "metadata": {},
   "outputs": [],
   "source": [
    "action_images[11]"
   ]
  },
  {
   "cell_type": "code",
   "execution_count": null,
   "id": "79037629",
   "metadata": {},
   "outputs": [],
   "source": [
    "obs_images[11]"
   ]
  },
  {
   "cell_type": "code",
   "execution_count": null,
   "id": "dac15195",
   "metadata": {},
   "outputs": [],
   "source": [
    "obs_images[0].save('test_obs.gif',\n",
    "                   save_all=True, append_images=obs_images[1:], optimize=False, duration=40, loop=0)"
   ]
  },
  {
   "cell_type": "code",
   "execution_count": null,
   "id": "dcc886d1",
   "metadata": {},
   "outputs": [],
   "source": [
    "action_images[0].save('test_action.gif',\n",
    "                      save_all=True, append_images=action_images[1:], optimize=False, duration=40, loop=0)"
   ]
  },
  {
   "cell_type": "code",
   "execution_count": null,
   "id": "55a7e67e",
   "metadata": {},
   "outputs": [],
   "source": []
  }
 ],
 "metadata": {
  "kernelspec": {
   "display_name": "torchdriveenv",
   "language": "python",
   "name": "torchdriveenv"
  },
  "language_info": {
   "codemirror_mode": {
    "name": "ipython",
    "version": 3
   },
   "file_extension": ".py",
   "mimetype": "text/x-python",
   "name": "python",
   "nbconvert_exporter": "python",
   "pygments_lexer": "ipython3",
   "version": "3.8.18"
  }
 },
 "nbformat": 4,
 "nbformat_minor": 5
}
