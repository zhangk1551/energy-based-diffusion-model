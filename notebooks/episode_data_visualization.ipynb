{
 "cells": [
  {
   "cell_type": "code",
   "execution_count": 1,
   "id": "1a273318",
   "metadata": {},
   "outputs": [],
   "source": [
    "import sys\n",
    "sys.path.insert(0, \"../torchdriveenv\")"
   ]
  },
  {
   "cell_type": "code",
   "execution_count": 20,
   "id": "7152f40b",
   "metadata": {},
   "outputs": [],
   "source": [
    "import torch\n",
    "import numpy as np\n",
    "from PIL import Image\n",
    "from torch.utils.data import DataLoader\n",
    "\n",
    "from datasets import TorchDriveEnvEpisodeDataset, DatasetMode"
   ]
  },
  {
   "cell_type": "code",
   "execution_count": 12,
   "id": "a183e881",
   "metadata": {},
   "outputs": [],
   "source": [
    "device = torch.device(\"cuda\" if torch.cuda.is_available() else \"cpu\")"
   ]
  },
  {
   "cell_type": "code",
   "execution_count": 13,
   "id": "9389a728",
   "metadata": {},
   "outputs": [],
   "source": [
    "data_dir = \"../torchdriveenv/examples/offline_datasets/episode_data_20241025-1300\""
   ]
  },
  {
   "cell_type": "code",
   "execution_count": 14,
   "id": "1da2bc48",
   "metadata": {},
   "outputs": [],
   "source": [
    "dataset = TorchDriveEnvEpisodeDataset(data_dir=data_dir, mode=DatasetMode.action_observation)"
   ]
  },
  {
   "cell_type": "code",
   "execution_count": 15,
   "id": "082f97d0",
   "metadata": {},
   "outputs": [],
   "source": [
    "dataloader = DataLoader(dataset, batch_size=2, shuffle=True)"
   ]
  },
  {
   "cell_type": "code",
   "execution_count": 36,
   "id": "a1db993d",
   "metadata": {},
   "outputs": [
    {
     "data": {
      "text/plain": [
       "tensor([[ 0.0180,  0.0178],\n",
       "        [ 0.0226,  0.0174],\n",
       "        [ 0.0206,  0.0171],\n",
       "        ...,\n",
       "        [-0.0200, -0.0000],\n",
       "        [ 0.0200, -0.0662],\n",
       "        [-0.0200, -0.0000]], device='cuda:0')"
      ]
     },
     "execution_count": 36,
     "metadata": {},
     "output_type": "execute_result"
    }
   ],
   "source": [
    "actions = torch.stack([item[\"action\"] for item in dataset.data])\n",
    "actions"
   ]
  },
  {
   "cell_type": "code",
   "execution_count": 51,
   "id": "c93ad835",
   "metadata": {},
   "outputs": [
    {
     "data": {
      "text/plain": [
       "<Axes: >"
      ]
     },
     "execution_count": 51,
     "metadata": {},
     "output_type": "execute_result"
    },
    {
     "data": {
      "image/png": "[encoded data removed]",
      "text/plain": [
       "<Figure size 640x480 with 1 Axes>"
      ]
     },
     "metadata": {},
     "output_type": "display_data"
    }
   ],
   "source": [
    "import pandas as pd\n",
    "\n",
    "data = pd.Series(actions[:, 1].cpu().numpy())\n",
    "data.hist(bins=50)"
   ]
  },
  {
   "cell_type": "code",
   "execution_count": null,
   "id": "2f7fc5ca",
   "metadata": {},
   "outputs": [],
   "source": []
  },
  {
   "cell_type": "code",
   "execution_count": 29,
   "id": "342c4c04",
   "metadata": {},
   "outputs": [],
   "source": [
    "action, obs = next(iter(dataset))"
   ]
  },
  {
   "cell_type": "code",
   "execution_count": 30,
   "id": "609956e0",
   "metadata": {},
   "outputs": [
    {
     "data": {
      "text/plain": [
       "(3, 64, 64)"
      ]
     },
     "execution_count": 30,
     "metadata": {},
     "output_type": "execute_result"
    }
   ],
   "source": [
    "obs.shape"
   ]
  },
  {
   "cell_type": "code",
   "execution_count": 31,
   "id": "805bb3d8",
   "metadata": {},
   "outputs": [
    {
     "name": "stdout",
     "output_type": "stream",
     "text": [
      "tensor([0.0180, 0.0178], device='cuda:0')\n"
     ]
    },
    {
     "data": {
      "image/jpeg": "[encoded data removed]",
      "image/png": "[encoded data removed]",
      "text/plain": [
       "<PIL.Image.Image image mode=RGB size=64x64>"
      ]
     },
     "execution_count": 31,
     "metadata": {},
     "output_type": "execute_result"
    }
   ],
   "source": [
    "print(action)\n",
    "Image.fromarray(obs.astype(np.uint8).transpose(1, 2, 0), 'RGB') "
   ]
  },
  {
   "cell_type": "code",
   "execution_count": null,
   "id": "46b24951",
   "metadata": {},
   "outputs": [],
   "source": []
  },
  {
   "cell_type": "code",
   "execution_count": null,
   "id": "b9f1a1e1",
   "metadata": {},
   "outputs": [],
   "source": []
  }
 ],
 "metadata": {
  "kernelspec": {
   "display_name": "ebm",
   "language": "python",
   "name": "ebm"
  },
  "language_info": {
   "codemirror_mode": {
    "name": "ipython",
    "version": 3
   },
   "file_extension": ".py",
   "mimetype": "text/x-python",
   "name": "python",
   "nbconvert_exporter": "python",
   "pygments_lexer": "ipython3",
   "version": "3.10.12"
  }
 },
 "nbformat": 4,
 "nbformat_minor": 5
}
