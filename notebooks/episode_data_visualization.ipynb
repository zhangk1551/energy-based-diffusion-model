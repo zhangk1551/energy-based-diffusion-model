{
 "cells": [
  {
   "cell_type": "code",
   "execution_count": 1,
   "id": "1a273318",
   "metadata": {},
   "outputs": [],
   "source": [
    "import sys\n",
    "sys.path.insert(0, \"..\")\n",
    "sys.path.insert(0, \"../../torchdriveenv\")"
   ]
  },
  {
   "cell_type": "code",
   "execution_count": 2,
   "id": "7152f40b",
   "metadata": {},
   "outputs": [],
   "source": [
    "import pickle\n",
    "import torch\n",
    "import numpy as np\n",
    "import matplotlib.pyplot as plt\n",
    "from PIL import Image\n",
    "from torch.utils.data import DataLoader\n",
    "\n",
    "from edm.datasets import TorchDriveEnvEpisodeDataset"
   ]
  },
  {
   "cell_type": "code",
   "execution_count": 3,
   "id": "a183e881",
   "metadata": {},
   "outputs": [],
   "source": [
    "device = torch.device(\"cuda\" if torch.cuda.is_available() else \"cpu\")"
   ]
  },
  {
   "cell_type": "code",
   "execution_count": 4,
   "id": "9389a728",
   "metadata": {},
   "outputs": [],
   "source": [
    "# data_dir = \"../datasets/itra_single\"\n",
    "# data_dir = \"../datasets/ppo_bad_policy_single\"\n",
    "# data_dir = \"../datasets/itra_multiple\"\n",
    "data_dir = \"../datasets/itra_single_traffic_lights\""
   ]
  },
  {
   "cell_type": "code",
   "execution_count": 5,
   "id": "0f1bb98a",
   "metadata": {},
   "outputs": [],
   "source": [
    "episode_data_path = f\"{data_dir}/episode_data_subset\""
   ]
  },
  {
   "cell_type": "code",
   "execution_count": 22,
   "id": "f4f96d36",
   "metadata": {},
   "outputs": [
    {
     "name": "stdout",
     "output_type": "stream",
     "text": [
      "irrelevant_obs_data_cat       itra_multiple  itra_single_traffic_lights\r\n",
      "irrelevant_obs_data_shuffled  itra_single    ppo_bad_policy_single\r\n"
     ]
    }
   ],
   "source": [
    "! ls ../datasets"
   ]
  },
  {
   "cell_type": "code",
   "execution_count": 7,
   "id": "1da2bc48",
   "metadata": {},
   "outputs": [
    {
     "name": "stderr",
     "output_type": "stream",
     "text": [
      "/home/kezhang/work/stochastic-critic/.venv/lib/python3.10/site-packages/tqdm/auto.py:21: TqdmWarning: IProgress not found. Please update jupyter and ipywidgets. See https://ipywidgets.readthedocs.io/en/stable/user_install.html\n",
      "  from .autonotebook import tqdm as notebook_tqdm\n",
      "WARNING:invertedai.utils:Commercial access denied and fallback to check for academic access.\n",
      "/home/kezhang/work/stochastic-critic/.venv/lib/python3.10/site-packages/torch/storage.py:414: FutureWarning: You are using `torch.load` with `weights_only=False` (the current default value), which uses the default pickle module implicitly. It is possible to construct malicious pickle data which will execute arbitrary code during unpickling (See https://github.com/pytorch/pytorch/blob/main/SECURITY.md#untrusted-models for more details). In a future release, the default value for `weights_only` will be flipped to `True`. This limits the functions that could be executed during unpickling. Arbitrary objects will no longer be allowed to be loaded via this mode unless they are explicitly allowlisted by the user via `torch.serialization.add_safe_globals`. We recommend you start setting `weights_only=True` for any use case where you don't have full control of the loaded file. Please open an issue on GitHub for any issues related to this experimental feature.\n",
      "  return torch.load(io.BytesIO(b))\n"
     ]
    }
   ],
   "source": [
    "dataset = TorchDriveEnvEpisodeDataset(data_dir=episode_data_path, diffusion_keys=[\"stacked_obs_birdview\"], condition_keys=None)"
   ]
  },
  {
   "cell_type": "code",
   "execution_count": 8,
   "id": "082f97d0",
   "metadata": {},
   "outputs": [],
   "source": [
    "dataloader = DataLoader(dataset, batch_size=100, shuffle=True)"
   ]
  },
  {
   "cell_type": "code",
   "execution_count": 9,
   "id": "103fd286",
   "metadata": {},
   "outputs": [],
   "source": [
    "obs, _ = next(iter(dataloader))"
   ]
  },
  {
   "cell_type": "code",
   "execution_count": 10,
   "id": "c4772f51",
   "metadata": {},
   "outputs": [
    {
     "data": {
      "text/plain": [
       "100"
      ]
     },
     "execution_count": 10,
     "metadata": {},
     "output_type": "execute_result"
    }
   ],
   "source": [
    "len(obs)"
   ]
  },
  {
   "cell_type": "code",
   "execution_count": 11,
   "id": "e9ddae20",
   "metadata": {},
   "outputs": [
    {
     "data": {
      "text/plain": [
       "torch.Size([9, 64, 64])"
      ]
     },
     "execution_count": 11,
     "metadata": {},
     "output_type": "execute_result"
    }
   ],
   "source": [
    "obs[0].shape"
   ]
  },
  {
   "cell_type": "code",
   "execution_count": 12,
   "id": "297c31db",
   "metadata": {},
   "outputs": [],
   "source": [
    "# converted_images = [Image.fromarray(img.numpy().astype(np.uint8).transpose(1, 2, 0), 'RGB') for img in obs]\n",
    "converted_images = [[Image.fromarray(img[i * 3: i * 3 + 3].numpy().astype(np.uint8).transpose(1, 2, 0), 'RGB') for i in range(3)] for img in obs]"
   ]
  },
  {
   "cell_type": "code",
   "execution_count": 13,
   "id": "89760aa8",
   "metadata": {},
   "outputs": [],
   "source": [
    "# ! mkdir ../datasets/itra_multiple/stacked_obs_data"
   ]
  },
  {
   "cell_type": "code",
   "execution_count": 14,
   "id": "f131cfe8",
   "metadata": {},
   "outputs": [],
   "source": [
    "obs_data_path = f\"{data_dir}/stacked_obs_data\"\n",
    "\n",
    "for i, image in enumerate(converted_images):\n",
    "    image[0].save(f'{obs_data_path}/{i}.gif',\n",
    "                     save_all=True, append_images=image[1:], optimize=False, duration=40, loop=0)\n",
    "#     image.save(f'{obs_data_path}/{i}.png')"
   ]
  },
  {
   "cell_type": "code",
   "execution_count": 15,
   "id": "c02be7c6",
   "metadata": {},
   "outputs": [],
   "source": [
    "for i, bv in enumerate(obs):\n",
    "    with open(f'{obs_data_path}/{i}.pkl', \"wb\") as f:\n",
    "        pickle.dump(bv, f)"
   ]
  },
  {
   "cell_type": "code",
   "execution_count": 16,
   "id": "2f7fc5ca",
   "metadata": {},
   "outputs": [],
   "source": [
    "recurrent_state, obs = next(iter(dataloader))"
   ]
  },
  {
   "cell_type": "code",
   "execution_count": 17,
   "id": "342c4c04",
   "metadata": {},
   "outputs": [],
   "source": [
    "# recurrent_state"
   ]
  },
  {
   "cell_type": "code",
   "execution_count": 18,
   "id": "46b24951",
   "metadata": {
    "scrolled": true
   },
   "outputs": [],
   "source": [
    "# converted_images = [Image.fromarray(img.numpy().astype(np.uint8).transpose(1, 2, 0), 'RGB') for img in obs[:20]]\n",
    "\n",
    "# # Set up a grid for displaying 10 images (e.g., 2 rows x 5 columns)\n",
    "# fig, axes = plt.subplots(2, 5, figsize=(15, 6))\n",
    "\n",
    "# # Plot each image in the grid\n",
    "# for ax, img in zip(axes.flat, converted_images):\n",
    "#     ax.imshow(img)\n",
    "#     ax.axis('off')  # Turn off axis\n",
    "\n",
    "# plt.show()"
   ]
  },
  {
   "cell_type": "code",
   "execution_count": 19,
   "id": "b9f1a1e1",
   "metadata": {},
   "outputs": [],
   "source": [
    "# Image.fromarray(obs[2].numpy().astype(np.uint8).transpose(1, 2, 0), 'RGB')"
   ]
  },
  {
   "cell_type": "code",
   "execution_count": null,
   "id": "6ee828d5",
   "metadata": {},
   "outputs": [],
   "source": []
  },
  {
   "cell_type": "code",
   "execution_count": 20,
   "id": "d7e6b48f",
   "metadata": {},
   "outputs": [],
   "source": [
    "# data/test_eval_data\n",
    "\n",
    "# with open('../data/test_eval_data/recurrent_state.pkl', 'wb') as f:\n",
    "#     pickle.dump(recurrent_state[2], f)"
   ]
  },
  {
   "cell_type": "code",
   "execution_count": 21,
   "id": "055602f3",
   "metadata": {},
   "outputs": [],
   "source": [
    "# with open('../data/test_eval_data/obs.pkl', 'wb') as f:\n",
    "#     pickle.dump(obs[2], f)"
   ]
  },
  {
   "cell_type": "code",
   "execution_count": null,
   "id": "09fdac3d",
   "metadata": {},
   "outputs": [],
   "source": []
  }
 ],
 "metadata": {
  "kernelspec": {
   "display_name": "ebm",
   "language": "python",
   "name": "ebm"
  },
  "language_info": {
   "codemirror_mode": {
    "name": "ipython",
    "version": 3
   },
   "file_extension": ".py",
   "mimetype": "text/x-python",
   "name": "python",
   "nbconvert_exporter": "python",
   "pygments_lexer": "ipython3",
   "version": "3.10.12"
  }
 },
 "nbformat": 4,
 "nbformat_minor": 5
}
