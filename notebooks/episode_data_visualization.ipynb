{
 "cells": [
  {
   "cell_type": "code",
   "execution_count": 1,
   "id": "1a273318",
   "metadata": {},
   "outputs": [],
   "source": [
    "import sys\n",
    "sys.path.insert(0, \"..\")\n",
    "sys.path.insert(0, \"../../torchdriveenv\")"
   ]
  },
  {
   "cell_type": "code",
   "execution_count": 2,
   "id": "7152f40b",
   "metadata": {},
   "outputs": [],
   "source": [
    "import pickle\n",
    "import torch\n",
    "import numpy as np\n",
    "import matplotlib.pyplot as plt\n",
    "from PIL import Image\n",
    "from torch.utils.data import DataLoader\n",
    "\n",
    "from edm.datasets import TorchDriveEnvEpisodeDataset"
   ]
  },
  {
   "cell_type": "code",
   "execution_count": 3,
   "id": "a183e881",
   "metadata": {},
   "outputs": [],
   "source": [
    "device = torch.device(\"cuda\" if torch.cuda.is_available() else \"cpu\")"
   ]
  },
  {
   "cell_type": "code",
   "execution_count": 4,
   "id": "9389a728",
   "metadata": {},
   "outputs": [],
   "source": [
    "data_dir = \"../data/tiny_itra_data\""
   ]
  },
  {
   "cell_type": "code",
   "execution_count": 5,
   "id": "1da2bc48",
   "metadata": {},
   "outputs": [
    {
     "name": "stderr",
     "output_type": "stream",
     "text": [
      "/home/kezhang/work/stochastic-critic/.venv/lib/python3.10/site-packages/tqdm/auto.py:21: TqdmWarning: IProgress not found. Please update jupyter and ipywidgets. See https://ipywidgets.readthedocs.io/en/stable/user_install.html\n",
      "  from .autonotebook import tqdm as notebook_tqdm\n",
      "WARNING:invertedai.utils:Commercial access denied and fallback to check for academic access.\n",
      "/home/kezhang/work/stochastic-critic/.venv/lib/python3.10/site-packages/torch/storage.py:414: FutureWarning: You are using `torch.load` with `weights_only=False` (the current default value), which uses the default pickle module implicitly. It is possible to construct malicious pickle data which will execute arbitrary code during unpickling (See https://github.com/pytorch/pytorch/blob/main/SECURITY.md#untrusted-models for more details). In a future release, the default value for `weights_only` will be flipped to `True`. This limits the functions that could be executed during unpickling. Arbitrary objects will no longer be allowed to be loaded via this mode unless they are explicitly allowlisted by the user via `torch.serialization.add_safe_globals`. We recommend you start setting `weights_only=True` for any use case where you don't have full control of the loaded file. Please open an issue on GitHub for any issues related to this experimental feature.\n",
      "  return torch.load(io.BytesIO(b))\n"
     ]
    }
   ],
   "source": [
    "dataset = TorchDriveEnvEpisodeDataset(data_dir=data_dir, diffusion_keys=[\"recurrent_state\"], condition_keys=[\"obs_birdview\"])"
   ]
  },
  {
   "cell_type": "code",
   "execution_count": 17,
   "id": "082f97d0",
   "metadata": {},
   "outputs": [],
   "source": [
    "dataloader = DataLoader(dataset, batch_size=10, shuffle=True)"
   ]
  },
  {
   "cell_type": "code",
   "execution_count": 18,
   "id": "2f7fc5ca",
   "metadata": {},
   "outputs": [],
   "source": [
    "recurrent_state, obs = next(iter(dataloader))"
   ]
  },
  {
   "cell_type": "code",
   "execution_count": 19,
   "id": "342c4c04",
   "metadata": {},
   "outputs": [],
   "source": [
    "# recurrent_state"
   ]
  },
  {
   "cell_type": "code",
   "execution_count": 20,
   "id": "46b24951",
   "metadata": {},
   "outputs": [
    {
     "data": {
      "image/png": "[encoded data removed]",
      "text/plain": [
       "<Figure size 1500x600 with 10 Axes>"
      ]
     },
     "metadata": {},
     "output_type": "display_data"
    }
   ],
   "source": [
    "converted_images = [Image.fromarray(img.numpy().astype(np.uint8).transpose(1, 2, 0), 'RGB') for img in obs]\n",
    "\n",
    "# Set up a grid for displaying 10 images (e.g., 2 rows x 5 columns)\n",
    "fig, axes = plt.subplots(2, 5, figsize=(15, 6))\n",
    "\n",
    "# Plot each image in the grid\n",
    "for ax, img in zip(axes.flat, converted_images):\n",
    "    ax.imshow(img)\n",
    "    ax.axis('off')  # Turn off axis\n",
    "\n",
    "plt.show()"
   ]
  },
  {
   "cell_type": "code",
   "execution_count": 21,
   "id": "b9f1a1e1",
   "metadata": {},
   "outputs": [
    {
     "data": {
      "image/jpeg": "[encoded data removed]",
      "image/png": "[encoded data removed]",
      "text/plain": [
       "<PIL.Image.Image image mode=RGB size=64x64>"
      ]
     },
     "execution_count": 21,
     "metadata": {},
     "output_type": "execute_result"
    }
   ],
   "source": [
    "Image.fromarray(obs[2].numpy().astype(np.uint8).transpose(1, 2, 0), 'RGB')"
   ]
  },
  {
   "cell_type": "code",
   "execution_count": 24,
   "id": "6ee828d5",
   "metadata": {},
   "outputs": [],
   "source": []
  },
  {
   "cell_type": "code",
   "execution_count": 25,
   "id": "d7e6b48f",
   "metadata": {},
   "outputs": [],
   "source": [
    "# data/test_eval_data\n",
    "\n",
    "# with open('../data/test_eval_data/recurrent_state.pkl', 'wb') as f:\n",
    "#     pickle.dump(recurrent_state[2], f)"
   ]
  },
  {
   "cell_type": "code",
   "execution_count": 26,
   "id": "055602f3",
   "metadata": {},
   "outputs": [],
   "source": [
    "# with open('../data/test_eval_data/obs.pkl', 'wb') as f:\n",
    "#     pickle.dump(obs[2], f)"
   ]
  },
  {
   "cell_type": "code",
   "execution_count": null,
   "id": "09fdac3d",
   "metadata": {},
   "outputs": [],
   "source": []
  }
 ],
 "metadata": {
  "kernelspec": {
   "display_name": "ebm",
   "language": "python",
   "name": "ebm"
  },
  "language_info": {
   "codemirror_mode": {
    "name": "ipython",
    "version": 3
   },
   "file_extension": ".py",
   "mimetype": "text/x-python",
   "name": "python",
   "nbconvert_exporter": "python",
   "pygments_lexer": "ipython3",
   "version": "3.10.12"
  }
 },
 "nbformat": 4,
 "nbformat_minor": 5
}
