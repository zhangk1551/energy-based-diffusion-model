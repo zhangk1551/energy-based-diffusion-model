{
 "cells": [
  {
   "cell_type": "code",
   "execution_count": 1,
   "id": "fd9842b4",
   "metadata": {},
   "outputs": [],
   "source": [
    "import sys\n",
    "sys.path.insert(0, \"../\")"
   ]
  },
  {
   "cell_type": "code",
   "execution_count": 2,
   "id": "015c8d5a",
   "metadata": {},
   "outputs": [],
   "source": [
    "import pytorch_lightning as pl\n",
    "\n",
    "from edm.pl_modules import EDMModule"
   ]
  },
  {
   "cell_type": "code",
   "execution_count": 3,
   "id": "bdda185b",
   "metadata": {},
   "outputs": [],
   "source": [
    "checkpoint_path = \"../EDM/9cc7yc6i/checkpoints/epoch=089-train_loss=0.00.ckpt\""
   ]
  },
  {
   "cell_type": "code",
   "execution_count": 4,
   "id": "90ea1d65",
   "metadata": {},
   "outputs": [],
   "source": [
    "# ! ls ../EDM/9cc7yc6i/checkpoints"
   ]
  },
  {
   "cell_type": "code",
   "execution_count": 5,
   "id": "aaed48dc",
   "metadata": {},
   "outputs": [],
   "source": [
    "model = EDMModule.load_from_checkpoint(checkpoint_path)"
   ]
  },
  {
   "cell_type": "code",
   "execution_count": 9,
   "id": "f861229c",
   "metadata": {},
   "outputs": [
    {
     "data": {
      "text/plain": [
       "CNN(\n",
       "  (pool0): AvgPool2d(kernel_size=1, stride=1, padding=0)\n",
       "  (conv1): Conv2d(3, 16, kernel_size=(3, 3), stride=(1, 1))\n",
       "  (conv2): Conv2d(16, 16, kernel_size=(3, 3), stride=(1, 1))\n",
       "  (conv3): Conv2d(16, 32, kernel_size=(3, 3), stride=(1, 1))\n",
       "  (conv4): Conv2d(32, 32, kernel_size=(3, 3), stride=(1, 1))\n",
       "  (pool1): MaxPool2d(kernel_size=2, stride=2, padding=0, dilation=1, ceil_mode=False)\n",
       "  (fc1): Linear(in_features=5408, out_features=256, bias=True)\n",
       "  (fc2): Linear(in_features=256, out_features=128, bias=True)\n",
       ")"
      ]
     },
     "execution_count": 9,
     "metadata": {},
     "output_type": "execute_result"
    }
   ],
   "source": [
    "model.net.image_encoder_s.fc2"
   ]
  },
  {
   "cell_type": "code",
   "execution_count": null,
   "id": "a5a68833",
   "metadata": {},
   "outputs": [],
   "source": []
  },
  {
   "cell_type": "code",
   "execution_count": 8,
   "id": "9679a005",
   "metadata": {},
   "outputs": [
    {
     "data": {
      "text/plain": [
       "ScoreModel(\n",
       "  (image_encoder_s): CNN(\n",
       "    (pool0): AvgPool2d(kernel_size=1, stride=1, padding=0)\n",
       "    (conv1): Conv2d(3, 16, kernel_size=(3, 3), stride=(1, 1))\n",
       "    (conv2): Conv2d(16, 16, kernel_size=(3, 3), stride=(1, 1))\n",
       "    (conv3): Conv2d(16, 32, kernel_size=(3, 3), stride=(1, 1))\n",
       "    (conv4): Conv2d(32, 32, kernel_size=(3, 3), stride=(1, 1))\n",
       "    (pool1): MaxPool2d(kernel_size=2, stride=2, padding=0, dilation=1, ceil_mode=False)\n",
       "    (fc1): Linear(in_features=5408, out_features=256, bias=True)\n",
       "    (fc2): Linear(in_features=256, out_features=128, bias=True)\n",
       "  )\n",
       "  (layer_x): Linear(in_features=130, out_features=128, bias=True)\n",
       "  (layers): ModuleList(\n",
       "    (0-3): 4 x Sequential(\n",
       "      (0): Linear(in_features=128, out_features=256, bias=True)\n",
       "      (1): Linear(in_features=32, out_features=256, bias=True)\n",
       "      (2): Linear(in_features=256, out_features=256, bias=True)\n",
       "      (3): Linear(in_features=256, out_features=128, bias=True)\n",
       "    )\n",
       "  )\n",
       "  (last_layer): Linear(in_features=128, out_features=2, bias=True)\n",
       "  (time_emb): Embedding(100, 32)\n",
       ")"
      ]
     },
     "execution_count": 8,
     "metadata": {},
     "output_type": "execute_result"
    }
   ],
   "source": [
    "model.net"
   ]
  },
  {
   "cell_type": "code",
   "execution_count": null,
   "id": "1393466b",
   "metadata": {},
   "outputs": [],
   "source": [
    "# model.net.image_encoder"
   ]
  }
 ],
 "metadata": {
  "kernelspec": {
   "display_name": "ebm",
   "language": "python",
   "name": "ebm"
  },
  "language_info": {
   "codemirror_mode": {
    "name": "ipython",
    "version": 3
   },
   "file_extension": ".py",
   "mimetype": "text/x-python",
   "name": "python",
   "nbconvert_exporter": "python",
   "pygments_lexer": "ipython3",
   "version": "3.10.12"
  }
 },
 "nbformat": 4,
 "nbformat_minor": 5
}
