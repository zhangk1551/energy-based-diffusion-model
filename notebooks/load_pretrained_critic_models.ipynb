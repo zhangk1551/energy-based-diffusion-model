{
 "cells": [
  {
   "cell_type": "code",
   "execution_count": 1,
   "id": "aaf03a61",
   "metadata": {},
   "outputs": [],
   "source": [
    "import sys\n",
    "sys.path.insert(0, \"..\")"
   ]
  },
  {
   "cell_type": "code",
   "execution_count": 2,
   "id": "50814e34",
   "metadata": {},
   "outputs": [
    {
     "name": "stderr",
     "output_type": "stream",
     "text": [
      "2024-12-10 03:50:50.686522: I tensorflow/core/util/port.cc:153] oneDNN custom operations are on. You may see slightly different numerical results due to floating-point round-off errors from different computation orders. To turn them off, set the environment variable `TF_ENABLE_ONEDNN_OPTS=0`.\n",
      "2024-12-10 03:50:50.697035: E external/local_xla/xla/stream_executor/cuda/cuda_fft.cc:485] Unable to register cuFFT factory: Attempting to register factory for plugin cuFFT when one has already been registered\n",
      "2024-12-10 03:50:50.709829: E external/local_xla/xla/stream_executor/cuda/cuda_dnn.cc:8454] Unable to register cuDNN factory: Attempting to register factory for plugin cuDNN when one has already been registered\n",
      "2024-12-10 03:50:50.713797: E external/local_xla/xla/stream_executor/cuda/cuda_blas.cc:1452] Unable to register cuBLAS factory: Attempting to register factory for plugin cuBLAS when one has already been registered\n",
      "2024-12-10 03:50:50.723355: I tensorflow/core/platform/cpu_feature_guard.cc:210] This TensorFlow binary is optimized to use available CPU instructions in performance-critical operations.\n",
      "To enable the following instructions: AVX2 AVX_VNNI FMA, in other operations, rebuild TensorFlow with the appropriate compiler flags.\n",
      "2024-12-10 03:50:51.390132: W tensorflow/compiler/tf2tensorrt/utils/py_utils.cc:38] TF-TRT Warning: Could not find TensorRT\n"
     ]
    }
   ],
   "source": [
    "import torch\n",
    "import numpy as np\n",
    "\n",
    "from matplotlib import pyplot as plt\n",
    "from PIL import Image\n",
    "from stable_baselines3 import SAC\n",
    "\n",
    "from edm.utils import to_image"
   ]
  },
  {
   "cell_type": "code",
   "execution_count": 7,
   "id": "98e39b4b",
   "metadata": {},
   "outputs": [],
   "source": [
    "# model_path = \"/home/kezhang/work/fall_2024/torchdriveenv/examples/models/collect_expert_dataset_1733360743/model\"\n",
    "model_path = \"/home/kezhang/work/fall_2024/torchdriveenv/examples/test_sac_model\""
   ]
  },
  {
   "cell_type": "code",
   "execution_count": null,
   "id": "15798f29",
   "metadata": {},
   "outputs": [],
   "source": []
  },
  {
   "cell_type": "code",
   "execution_count": 8,
   "id": "0dddea59",
   "metadata": {},
   "outputs": [
    {
     "name": "stderr",
     "output_type": "stream",
     "text": [
      "/home/kezhang/work/stochastic-critic/.venv/lib/python3.10/site-packages/stable_baselines3/common/buffers.py:241: UserWarning: This system does not have apparently enough memory to store the complete replay buffer 73.74GB > 44.23GB\n",
      "  warnings.warn(\n"
     ]
    }
   ],
   "source": [
    "model = SAC.load(model_path)"
   ]
  },
  {
   "cell_type": "code",
   "execution_count": 9,
   "id": "b961f200",
   "metadata": {},
   "outputs": [],
   "source": [
    "# model.__dir__()"
   ]
  },
  {
   "cell_type": "code",
   "execution_count": 10,
   "id": "ec367eba",
   "metadata": {},
   "outputs": [],
   "source": [
    "# model.critic"
   ]
  },
  {
   "cell_type": "code",
   "execution_count": 11,
   "id": "187b5e32",
   "metadata": {},
   "outputs": [],
   "source": [
    "# model.actor"
   ]
  },
  {
   "cell_type": "code",
   "execution_count": 12,
   "id": "1d68f823",
   "metadata": {},
   "outputs": [],
   "source": [
    "# model.policy"
   ]
  },
  {
   "cell_type": "code",
   "execution_count": 13,
   "id": "70f214c7",
   "metadata": {},
   "outputs": [],
   "source": [
    "# model.observation_space"
   ]
  },
  {
   "cell_type": "code",
   "execution_count": 14,
   "id": "927305a9",
   "metadata": {},
   "outputs": [],
   "source": [
    "# model.action_space"
   ]
  },
  {
   "cell_type": "code",
   "execution_count": 15,
   "id": "5739349e",
   "metadata": {},
   "outputs": [],
   "source": [
    "obs = torch.Tensor(model._last_obs).cuda()\n",
    "# obs.shape"
   ]
  },
  {
   "cell_type": "code",
   "execution_count": 16,
   "id": "70917914",
   "metadata": {},
   "outputs": [],
   "source": [
    "actions = model.actor(torch.Tensor(obs).cuda())\n",
    "# actions"
   ]
  },
  {
   "cell_type": "code",
   "execution_count": 17,
   "id": "23c24e0b",
   "metadata": {},
   "outputs": [
    {
     "data": {
      "text/plain": [
       "tensor([[ 93.1896],\n",
       "        [ 55.7840],\n",
       "        [105.9333],\n",
       "        [ 22.6074],\n",
       "        [ 70.4723],\n",
       "        [ 44.4109]], device='cuda:0', grad_fn=<AddmmBackward0>)"
      ]
     },
     "execution_count": 17,
     "metadata": {},
     "output_type": "execute_result"
    }
   ],
   "source": [
    "model.critic.q1_forward(obs, actions)"
   ]
  },
  {
   "cell_type": "code",
   "execution_count": 30,
   "id": "8b3052d2",
   "metadata": {},
   "outputs": [],
   "source": [
    "def plot_critic(fn, obs, device):\n",
    "    nticks = 50\n",
    "    x, y = np.meshgrid(np.linspace(-2, 2, nticks), np.linspace(-2, 2, nticks))\n",
    "    x = torch.Tensor(x)\n",
    "    y = torch.Tensor(y)\n",
    "    coord = torch.stack([x, y], axis=-1).reshape((-1, 2)).to(device)\n",
    "#     t = torch.Tensor([t]).int().expand((coord.shape[0], )).to(device)\n",
    "    obs = obs.unsqueeze(0).expand((coord.shape[0], *obs.shape)).to(device)\n",
    "\n",
    "    heatmap = fn(actions=coord, obs=obs).reshape(\n",
    "        (nticks, nticks)).detach().cpu().transpose(0, 1).numpy()\n",
    "    plt.imshow(heatmap)\n",
    "\n",
    "#     return to_image(plt)"
   ]
  },
  {
   "cell_type": "code",
   "execution_count": 31,
   "id": "e3710e34",
   "metadata": {},
   "outputs": [
    {
     "data": {
      "image/jpeg": "[encoded data removed]",
      "image/png": "[encoded data removed]",
      "text/plain": [
       "<PIL.Image.Image image mode=RGB size=64x64>"
      ]
     },
     "execution_count": 31,
     "metadata": {},
     "output_type": "execute_result"
    }
   ],
   "source": [
    "Image.fromarray(obs[1][:3].cpu().detach().numpy().astype(np.uint8).transpose(1, 2, 0), 'RGB')"
   ]
  },
  {
   "cell_type": "code",
   "execution_count": 32,
   "id": "94c9be62",
   "metadata": {},
   "outputs": [
    {
     "data": {
      "image/png": "[encoded data removed]",
      "text/plain": [
       "<Figure size 200x200 with 1 Axes>"
      ]
     },
     "metadata": {},
     "output_type": "display_data"
    }
   ],
   "source": [
    "plt.figure(figsize=(2, 2))\n",
    "plot_critic(model.critic.q1_forward, obs[1], torch.device(\"cuda\"))"
   ]
  },
  {
   "cell_type": "code",
   "execution_count": 33,
   "id": "992fcdbc",
   "metadata": {},
   "outputs": [
    {
     "data": {
      "image/jpeg": "[encoded data removed]",
      "image/png": "[encoded data removed]",
      "text/plain": [
       "<PIL.Image.Image image mode=RGB size=64x64>"
      ]
     },
     "execution_count": 33,
     "metadata": {},
     "output_type": "execute_result"
    }
   ],
   "source": [
    "Image.fromarray(obs[0][:3].cpu().detach().numpy().astype(np.uint8).transpose(1, 2, 0), 'RGB')"
   ]
  },
  {
   "cell_type": "code",
   "execution_count": 34,
   "id": "8d423bc1",
   "metadata": {},
   "outputs": [
    {
     "data": {
      "image/png": "[encoded data removed]",
      "text/plain": [
       "<Figure size 200x200 with 1 Axes>"
      ]
     },
     "metadata": {},
     "output_type": "display_data"
    }
   ],
   "source": [
    "plt.figure(figsize=(2, 2))\n",
    "plot_critic(model.critic.q1_forward, obs[0], torch.device(\"cuda\"))"
   ]
  },
  {
   "cell_type": "code",
   "execution_count": 35,
   "id": "413e3bb7",
   "metadata": {},
   "outputs": [
    {
     "data": {
      "image/jpeg": "[encoded data removed]",
      "image/png": "[encoded data removed]",
      "text/plain": [
       "<PIL.Image.Image image mode=RGB size=64x64>"
      ]
     },
     "execution_count": 35,
     "metadata": {},
     "output_type": "execute_result"
    }
   ],
   "source": [
    "Image.fromarray(obs[3][:3].cpu().detach().numpy().astype(np.uint8).transpose(1, 2, 0), 'RGB')"
   ]
  },
  {
   "cell_type": "code",
   "execution_count": 36,
   "id": "6615ed54",
   "metadata": {},
   "outputs": [
    {
     "data": {
      "image/png": "[encoded data removed]",
      "text/plain": [
       "<Figure size 200x200 with 1 Axes>"
      ]
     },
     "metadata": {},
     "output_type": "display_data"
    }
   ],
   "source": [
    "plt.figure(figsize=(2, 2))\n",
    "plot_critic(model.critic.q1_forward, obs[3], torch.device(\"cuda\"))"
   ]
  },
  {
   "cell_type": "code",
   "execution_count": null,
   "id": "fc432852",
   "metadata": {},
   "outputs": [],
   "source": []
  }
 ],
 "metadata": {
  "kernelspec": {
   "display_name": "stochastic-critic",
   "language": "python",
   "name": "stochastic-critic"
  },
  "language_info": {
   "codemirror_mode": {
    "name": "ipython",
    "version": 3
   },
   "file_extension": ".py",
   "mimetype": "text/x-python",
   "name": "python",
   "nbconvert_exporter": "python",
   "pygments_lexer": "ipython3",
   "version": "3.10.12"
  }
 },
 "nbformat": 4,
 "nbformat_minor": 5
}
