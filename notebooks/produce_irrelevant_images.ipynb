{
 "cells": [
  {
   "cell_type": "code",
   "execution_count": 1,
   "id": "1747d210",
   "metadata": {},
   "outputs": [],
   "source": [
    "import sys\n",
    "sys.path.insert(0, \"..\")\n",
    "sys.path.insert(0, \"../../torchdriveenv\")"
   ]
  },
  {
   "cell_type": "code",
   "execution_count": 2,
   "id": "1ae71422",
   "metadata": {},
   "outputs": [],
   "source": [
    "import os\n",
    "import pickle\n",
    "import random\n",
    "import torch\n",
    "import numpy as np\n",
    "import matplotlib.pyplot as plt\n",
    "from PIL import Image\n",
    "from torch.utils.data import DataLoader"
   ]
  },
  {
   "cell_type": "code",
   "execution_count": 3,
   "id": "71a9dcd6",
   "metadata": {},
   "outputs": [],
   "source": [
    "### shuffled birdviews"
   ]
  },
  {
   "cell_type": "code",
   "execution_count": 4,
   "id": "d53156b2",
   "metadata": {},
   "outputs": [],
   "source": [
    "data_dir = \"../datasets/itra_single/obs_data\""
   ]
  },
  {
   "cell_type": "code",
   "execution_count": 5,
   "id": "1b8377df",
   "metadata": {},
   "outputs": [
    {
     "name": "stdout",
     "output_type": "stream",
     "text": [
      "tensor([[[ 80.,  80.,   0.,  ..., 255., 255., 155.],\n",
      "         [ 80.,  80.,   0.,  ..., 255., 155., 155.],\n",
      "         [155., 155.,  80.,  ..., 155., 155., 255.],\n",
      "         ...,\n",
      "         [  0.,   0.,   0.,  ...,   0.,   0.,   0.],\n",
      "         [  0.,   0.,   0.,  ...,   0.,   0.,   0.],\n",
      "         [  0.,   0.,   0.,  ...,   0.,   0.,   0.]],\n",
      "\n",
      "        [[127., 127.,   0.,  ..., 255., 255., 155.],\n",
      "         [127., 127.,   0.,  ..., 255., 155., 155.],\n",
      "         [155., 155., 127.,  ..., 155., 155., 255.],\n",
      "         ...,\n",
      "         [  0.,   0.,   0.,  ...,   0.,   0.,   0.],\n",
      "         [  0.,   0.,   0.,  ...,   0.,   0.,   0.],\n",
      "         [  0.,   0.,   0.,  ...,   0.,   0.,   0.]],\n",
      "\n",
      "        [[ 86.,  86.,   0.,  ..., 255., 255., 155.],\n",
      "         [ 86.,  86.,   0.,  ..., 255., 155., 155.],\n",
      "         [155., 155.,  86.,  ..., 155., 155., 255.],\n",
      "         ...,\n",
      "         [  0.,   0.,   0.,  ...,   0.,   0.,   0.],\n",
      "         [  0.,   0.,   0.,  ...,   0.,   0.,   0.],\n",
      "         [  0.,   0.,   0.,  ...,   0.,   0.,   0.]]])\n"
     ]
    },
    {
     "name": "stderr",
     "output_type": "stream",
     "text": [
      "/home/kezhang/work/stochastic-critic/.venv/lib/python3.10/site-packages/torch/storage.py:414: FutureWarning: You are using `torch.load` with `weights_only=False` (the current default value), which uses the default pickle module implicitly. It is possible to construct malicious pickle data which will execute arbitrary code during unpickling (See https://github.com/pytorch/pytorch/blob/main/SECURITY.md#untrusted-models for more details). In a future release, the default value for `weights_only` will be flipped to `True`. This limits the functions that could be executed during unpickling. Arbitrary objects will no longer be allowed to be loaded via this mode unless they are explicitly allowlisted by the user via `torch.serialization.add_safe_globals`. We recommend you start setting `weights_only=True` for any use case where you don't have full control of the loaded file. Please open an issue on GitHub for any issues related to this experimental feature.\n",
      "  return torch.load(io.BytesIO(b))\n"
     ]
    }
   ],
   "source": [
    "converted_images = []\n",
    "shuffled_obs = []\n",
    "for file in os.listdir(data_dir):\n",
    "    file_path = os.path.join(data_dir, file)\n",
    "    if file_path[-4:] != \".pkl\":\n",
    "        continue\n",
    "    with open(file_path, \"rb\") as f:\n",
    "        obs_data = pickle.load(f)\n",
    "    print(obs_data)\n",
    "    break\n",
    "    flattened_image = obs_data.reshape(3, -1)\n",
    "    indices = np.random.permutation(flattened_image.shape[1])  # Generate random indices\n",
    "    shuffled_image = flattened_image[:, indices]\n",
    "\n",
    "#     # Step 3: Reshape back to (3, 64, 64)\n",
    "#     shuffled_image = shuffled_image.reshape(3, 64, 64)\n",
    "#     shuffled_obs.append(shuffled_image)\n",
    "#     converted_images.append(Image.fromarray(shuffled_image.numpy().astype(np.uint8).transpose(1, 2, 0), 'RGB'))"
   ]
  },
  {
   "cell_type": "code",
   "execution_count": 6,
   "id": "6782c2d0",
   "metadata": {},
   "outputs": [],
   "source": [
    "# ! mkdir ../datasets/irrelevant_obs_data_shuffled"
   ]
  },
  {
   "cell_type": "code",
   "execution_count": 7,
   "id": "208ed5dd",
   "metadata": {},
   "outputs": [],
   "source": [
    "# obs_data_path = \"../datasets/irrelevant_obs_data_shuffled\"\n",
    "# for i, image in enumerate(converted_images):\n",
    "#     image.save(f'{obs_data_path}/{i}.png')"
   ]
  },
  {
   "cell_type": "code",
   "execution_count": 8,
   "id": "375031d2",
   "metadata": {},
   "outputs": [],
   "source": [
    "# for i, bv in enumerate(shuffled_obs):\n",
    "#     with open(f'{obs_data_path}/{i}.pkl', \"wb\") as f:\n",
    "#         pickle.dump(bv, f)"
   ]
  },
  {
   "cell_type": "code",
   "execution_count": 9,
   "id": "c5180809",
   "metadata": {},
   "outputs": [],
   "source": [
    "# # Set up a grid for displaying 10 images (e.g., 2 rows x 5 columns)\n",
    "# fig, axes = plt.subplots(2, 5, figsize=(15, 6))\n",
    "\n",
    "# # Plot each image in the grid\n",
    "# for ax, img in zip(axes.flat, converted_images[:10]):\n",
    "#     ax.imshow(img)\n",
    "#     ax.axis('off')  # Turn off axis\n",
    "\n",
    "# plt.show()"
   ]
  },
  {
   "cell_type": "code",
   "execution_count": 10,
   "id": "36022ac8",
   "metadata": {},
   "outputs": [],
   "source": [
    "### cat photos"
   ]
  },
  {
   "cell_type": "code",
   "execution_count": 11,
   "id": "b34e8fa3",
   "metadata": {},
   "outputs": [],
   "source": [
    "cat_data_dir = \"../data/cats/cats/Data/\"\n",
    "# cat_data_dir = \"../datasets/irrelevant_shuffled/obs_data\"\n",
    "# obs_data_path = \"../datasets/irrelevant_shuffled/stacked_obs_data\"\n",
    "obs_data_path = \"../datasets/irrelevant_cat/stacked_obs_data\""
   ]
  },
  {
   "cell_type": "code",
   "execution_count": 12,
   "id": "66184583",
   "metadata": {},
   "outputs": [],
   "source": [
    "# images = []\n",
    "# image_tensors = []\n",
    "# files = os.listdir(cat_data_dir)\n",
    "# for i in range(1000):\n",
    "#     file = random.choice(files)\n",
    "#     file_path = os.path.join(cat_data_dir, file)\n",
    "#     if file_path[-4:] != \".png\":\n",
    "#         continue\n",
    "#     if len(images) == 300:\n",
    "#         break\n",
    "#     image = Image.open(file_path)\n",
    "#     image_array = np.array(image)\n",
    "#     image_tensor = torch.from_numpy(image_array).permute(2, 0, 1).float()\n",
    "    \n",
    "#     images.append(image)\n",
    "#     image_tensors.append(image_tensor)\n",
    "    \n",
    "# #     with open(f'{file_path[:-4]}.pkl', \"wb\") as f:\n",
    "# #         pickle.dump(image_tensor, f)"
   ]
  },
  {
   "cell_type": "code",
   "execution_count": 13,
   "id": "f6bb7ea1",
   "metadata": {},
   "outputs": [],
   "source": [
    "# ! mkdir ../datasets/irrelevant_cat/stacked_obs_data"
   ]
  },
  {
   "cell_type": "code",
   "execution_count": 14,
   "id": "a88f3b1d",
   "metadata": {},
   "outputs": [],
   "source": [
    "# image[0].save(f'{obs_data_path}/{i}.gif',\n",
    "#               save_all=True, append_images=image[1:], optimize=False, duration=40, loop=0)"
   ]
  },
  {
   "cell_type": "code",
   "execution_count": 15,
   "id": "2238da64",
   "metadata": {},
   "outputs": [],
   "source": [
    "images = []\n",
    "image_tensors = []\n",
    "for i, file in enumerate(os.listdir(cat_data_dir)):\n",
    "    file_path = os.path.join(cat_data_dir, file)\n",
    "    if file_path[-4:] != \".png\":\n",
    "        continue\n",
    "    if i == 300:\n",
    "        break\n",
    "    image = Image.open(file_path)\n",
    "    image_array = np.array(image)\n",
    "    image_tensor = torch.from_numpy(image_array).permute(2, 0, 1).float()\n",
    "    \n",
    "    images.append(image)\n",
    "    image_tensors.append(image_tensor)\n",
    "    \n",
    "#     with open(f'{file_path[:-4]}.pkl', \"wb\") as f:\n",
    "#         pickle.dump(image_tensor, f)"
   ]
  },
  {
   "cell_type": "code",
   "execution_count": 16,
   "id": "4b41af40",
   "metadata": {},
   "outputs": [],
   "source": [
    "for i in range(100):\n",
    "    images[i * 3].save(f'{obs_data_path}/{i}.gif',\n",
    "                       save_all=True, append_images=images[i * 3 + 1: i * 3 + 3], optimize=False, duration=40, loop=0)\n",
    "    image_tensor = torch.cat(image_tensors[i * 3: i * 3 + 3])\n",
    "    with open(f'{obs_data_path}/{i}.pkl', \"wb\") as f:\n",
    "        pickle.dump(image_tensor, f)"
   ]
  },
  {
   "cell_type": "code",
   "execution_count": 17,
   "id": "6dbaf460",
   "metadata": {},
   "outputs": [],
   "source": [
    "# for file in os.listdir(cat_data_dir):\n",
    "#     file_path = os.path.join(cat_data_dir, file)\n",
    "#     if file_path[-4:] != \".png\":\n",
    "#         continue\n",
    "#     image = Image.open(file_path)\n",
    "#     image_array = np.array(image)\n",
    "#     image_tensor = torch.from_numpy(image_array).permute(2, 0, 1).float()\n",
    "#     print(image_tensor)\n",
    "# #     with open(f'{file_path[:-4]}.pkl', \"wb\") as f:\n",
    "# #         pickle.dump(image_tensor, f)"
   ]
  },
  {
   "cell_type": "code",
   "execution_count": null,
   "id": "af6eebb2",
   "metadata": {},
   "outputs": [],
   "source": []
  },
  {
   "cell_type": "code",
   "execution_count": null,
   "id": "85a50c04",
   "metadata": {},
   "outputs": [],
   "source": []
  }
 ],
 "metadata": {
  "kernelspec": {
   "display_name": "ebm",
   "language": "python",
   "name": "ebm"
  },
  "language_info": {
   "codemirror_mode": {
    "name": "ipython",
    "version": 3
   },
   "file_extension": ".py",
   "mimetype": "text/x-python",
   "name": "python",
   "nbconvert_exporter": "python",
   "pygments_lexer": "ipython3",
   "version": "3.10.12"
  }
 },
 "nbformat": 4,
 "nbformat_minor": 5
}
