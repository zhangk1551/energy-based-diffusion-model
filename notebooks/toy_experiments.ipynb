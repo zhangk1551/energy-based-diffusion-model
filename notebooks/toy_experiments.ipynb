{
 "cells": [
  {
   "cell_type": "code",
   "execution_count": 1,
   "id": "0b68baf9",
   "metadata": {},
   "outputs": [],
   "source": [
    "import time\n",
    "import torch\n",
    "import torch.nn as nn\n",
    "import numpy as np\n",
    "from matplotlib import pyplot as plt\n",
    "\n",
    "\n",
    "from model import Resnet, EBMDiffusionModel\n",
    "from diffusion import DiffusionModel\n",
    "from toys import toy_gmm"
   ]
  },
  {
   "cell_type": "code",
   "execution_count": 2,
   "id": "c71c33bf",
   "metadata": {},
   "outputs": [],
   "source": [
    "# Train Spiral EBM Model\n",
    "batch_size = 1000\n",
    "data_dim = 2\n",
    "num_steps = 15001\n",
    "\n",
    "EMA = .999\n",
    "\n",
    "n_steps = 100\n",
    "net_params = {\"n_layers\": 4,\n",
    "              \"h_dim\": 128,\n",
    "              \"emb_dim\": 32}"
   ]
  },
  {
   "cell_type": "code",
   "execution_count": 3,
   "id": "01ede7ea",
   "metadata": {},
   "outputs": [
    {
     "data": {
      "image/png": "[encoded data removed]",
      "text/plain": [
       "<Figure size 640x480 with 1 Axes>"
      ]
     },
     "metadata": {},
     "output_type": "display_data"
    }
   ],
   "source": [
    "xr = [-.75, .75]\n",
    "yr = [-.75, .75]\n",
    "\n",
    "# load data\n",
    "dataset_energy, dataset_sample = toy_gmm(std=.03)\n",
    "x = dataset_sample(batch_size)\n",
    "\n",
    "plot_samples(x)\n",
    "plt.show()\n",
    "x = x.reshape(x.shape[0], -1)"
   ]
  },
  {
   "cell_type": "code",
   "execution_count": 5,
   "id": "1f861b4f",
   "metadata": {},
   "outputs": [],
   "source": [
    "net = Resnet(n_steps=n_steps, n_layers=4, x_dim=data_dim, h_dim=128, emb_dim=32)\n",
    "\n",
    "ebm_net = EBMDiffusionModel(net)\n",
    "\n",
    "ddpm = DiffusionModel(data_dim, n_steps, ebm_net, device=torch.device(\"cpu\"), var_type=\"beta_forward\")"
   ]
  },
  {
   "cell_type": "code",
   "execution_count": 6,
   "id": "64d2a329",
   "metadata": {},
   "outputs": [],
   "source": [
    "def logp_unnorm(net, ddpm, x, t):\n",
    "    scale_e = ddpm.energy_scale(-2 - t)\n",
    "    t = torch.ones((x.shape[0],)).int() * t\n",
    "    return -net.neg_logp_unnorm(x, t) * scale_e"
   ]
  },
  {
   "cell_type": "code",
   "execution_count": 7,
   "id": "da52faab",
   "metadata": {},
   "outputs": [
    {
     "data": {
      "text/plain": [
       "DiffusionModel(\n",
       "  (net): EBMDiffusionModel(\n",
       "    (net): Resnet(\n",
       "      (layer_x): Linear(in_features=2, out_features=128, bias=True)\n",
       "      (layers): ModuleList(\n",
       "        (0-3): 4 x Sequential(\n",
       "          (0): Linear(in_features=128, out_features=256, bias=True)\n",
       "          (1): Linear(in_features=32, out_features=256, bias=True)\n",
       "          (2): Linear(in_features=256, out_features=256, bias=True)\n",
       "          (3): Linear(in_features=256, out_features=128, bias=True)\n",
       "        )\n",
       "      )\n",
       "      (last_layer): Linear(in_features=128, out_features=2, bias=True)\n",
       "      (time_emb): Embedding(100, 32)\n",
       "    )\n",
       "  )\n",
       ")"
      ]
     },
     "execution_count": 7,
     "metadata": {},
     "output_type": "execute_result"
    }
   ],
   "source": [
    "ddpm"
   ]
  },
  {
   "cell_type": "code",
   "execution_count": null,
   "id": "90a8bdc6",
   "metadata": {},
   "outputs": [],
   "source": [
    "def plot_samples(x):\n",
    "    plt.scatter(x[:, 0], x[:, 1])\n",
    "    plt.xlim(-2, 2)\n",
    "    plt.ylim(-2, 2)\n",
    "\n",
    "def dist_show_2d(fn, xr, yr):\n",
    "    nticks = 100\n",
    "    x, y = np.meshgrid(np.linspace(xr[0], xr[1], nticks), np.linspace(yr[0], yr[1], nticks))\n",
    "    x = torch.Tensor(x)\n",
    "    y = torch.Tensor(y)\n",
    "    coord = torch.stack([x, y], axis=-1).reshape((-1, 2))\n",
    "    heatmap = fn(coord).reshape((nticks, nticks)).detach().numpy()\n",
    "    plt.imshow(heatmap)"
   ]
  },
  {
   "cell_type": "code",
   "execution_count": 8,
   "id": "0039974b",
   "metadata": {},
   "outputs": [
    {
     "ename": "RuntimeError",
     "evalue": "Expected all tensors to be on the same device, but found at least two devices, cuda:0 and cpu!",
     "output_type": "error",
     "traceback": [
      "\u001b[0;31m---------------------------------------------------------------------------\u001b[0m",
      "\u001b[0;31mRuntimeError\u001b[0m                              Traceback (most recent call last)",
      "Cell \u001b[0;32mIn[8], line 17\u001b[0m\n\u001b[1;32m     14\u001b[0m x \u001b[38;5;241m=\u001b[39m x\u001b[38;5;241m.\u001b[39mreshape(x\u001b[38;5;241m.\u001b[39mshape[\u001b[38;5;241m0\u001b[39m], \u001b[38;5;241m-\u001b[39m\u001b[38;5;241m1\u001b[39m)\n\u001b[1;32m     15\u001b[0m start_time \u001b[38;5;241m=\u001b[39m time\u001b[38;5;241m.\u001b[39mtime()\n\u001b[0;32m---> 17\u001b[0m loss \u001b[38;5;241m=\u001b[39m \u001b[43mddpm\u001b[49m\u001b[38;5;241;43m.\u001b[39;49m\u001b[43mloss\u001b[49m\u001b[43m(\u001b[49m\u001b[43mx\u001b[49m\u001b[43m)\u001b[49m\n\u001b[1;32m     18\u001b[0m loss \u001b[38;5;241m=\u001b[39m loss\u001b[38;5;241m.\u001b[39mmean()\n\u001b[1;32m     19\u001b[0m loss\u001b[38;5;241m.\u001b[39mbackward()\n",
      "File \u001b[0;32m~/work/fall_2024/energy-based-diffusion-model/diffusion.py:226\u001b[0m, in \u001b[0;36mDiffusionModel.loss\u001b[0;34m(self, x)\u001b[0m\n\u001b[1;32m    224\u001b[0m \u001b[38;5;28;01mdef\u001b[39;00m \u001b[38;5;21mloss\u001b[39m(\u001b[38;5;28mself\u001b[39m, x):\n\u001b[1;32m    225\u001b[0m   \u001b[38;5;28;01mif\u001b[39;00m \u001b[38;5;28mself\u001b[39m\u001b[38;5;241m.\u001b[39m_mc_loss:\n\u001b[0;32m--> 226\u001b[0m     \u001b[38;5;28;01mreturn\u001b[39;00m \u001b[38;5;28;43mself\u001b[39;49m\u001b[38;5;241;43m.\u001b[39;49m\u001b[43mloss_mc\u001b[49m\u001b[43m(\u001b[49m\u001b[43mx\u001b[49m\u001b[43m,\u001b[49m\u001b[43m \u001b[49m\u001b[43mloss_type\u001b[49m\u001b[38;5;241;43m=\u001b[39;49m\u001b[38;5;28;43mself\u001b[39;49m\u001b[38;5;241;43m.\u001b[39;49m\u001b[43m_loss_type\u001b[49m\u001b[43m)\u001b[49m\n\u001b[1;32m    227\u001b[0m   \u001b[38;5;28;01melse\u001b[39;00m:\n\u001b[1;32m    228\u001b[0m     \u001b[38;5;28;01mreturn\u001b[39;00m \u001b[38;5;28mself\u001b[39m\u001b[38;5;241m.\u001b[39mloss_all_t(x, loss_type\u001b[38;5;241m=\u001b[39m\u001b[38;5;28mself\u001b[39m\u001b[38;5;241m.\u001b[39m_loss_type)\n",
      "File \u001b[0;32m~/work/fall_2024/energy-based-diffusion-model/diffusion.py:235\u001b[0m, in \u001b[0;36mDiffusionModel.loss_mc\u001b[0;34m(self, x, loss_type)\u001b[0m\n\u001b[1;32m    233\u001b[0m t \u001b[38;5;241m=\u001b[39m torch\u001b[38;5;241m.\u001b[39mfrom_numpy(np\u001b[38;5;241m.\u001b[39mrandom\u001b[38;5;241m.\u001b[39mrandint(\u001b[38;5;241m0\u001b[39m, \u001b[38;5;28mself\u001b[39m\u001b[38;5;241m.\u001b[39m_n_steps, size\u001b[38;5;241m=\u001b[39m(x\u001b[38;5;241m.\u001b[39mshape[\u001b[38;5;241m0\u001b[39m],)))\u001b[38;5;241m.\u001b[39mto(\u001b[38;5;28mself\u001b[39m\u001b[38;5;241m.\u001b[39mdevice)\n\u001b[1;32m    234\u001b[0m \u001b[38;5;28;01mif\u001b[39;00m loss_type \u001b[38;5;241m==\u001b[39m \u001b[38;5;124m'\u001b[39m\u001b[38;5;124msimple\u001b[39m\u001b[38;5;124m'\u001b[39m:\n\u001b[0;32m--> 235\u001b[0m     loss \u001b[38;5;241m=\u001b[39m \u001b[38;5;28;43mself\u001b[39;49m\u001b[38;5;241;43m.\u001b[39;49m\u001b[43mp_loss_simple\u001b[49m\u001b[43m(\u001b[49m\u001b[43mx\u001b[49m\u001b[43m,\u001b[49m\u001b[43m \u001b[49m\u001b[43mt\u001b[49m\u001b[43m)\u001b[49m\n\u001b[1;32m    236\u001b[0m \u001b[38;5;28;01melif\u001b[39;00m loss_type \u001b[38;5;241m==\u001b[39m \u001b[38;5;124m'\u001b[39m\u001b[38;5;124mkl\u001b[39m\u001b[38;5;124m'\u001b[39m:\n\u001b[1;32m    237\u001b[0m     loss \u001b[38;5;241m=\u001b[39m \u001b[38;5;28mself\u001b[39m\u001b[38;5;241m.\u001b[39mp_loss_kl(x, t)\n",
      "File \u001b[0;32m~/work/fall_2024/energy-based-diffusion-model/diffusion.py:115\u001b[0m, in \u001b[0;36mDiffusionModel.p_loss_simple\u001b[0;34m(self, x_0, t)\u001b[0m\n\u001b[1;32m    113\u001b[0m \u001b[38;5;250m\u001b[39m\u001b[38;5;124;03m\"\"\"Training loss for given x_0 and t.\"\"\"\u001b[39;00m\n\u001b[1;32m    114\u001b[0m noise \u001b[38;5;241m=\u001b[39m torch\u001b[38;5;241m.\u001b[39mTensor(np\u001b[38;5;241m.\u001b[39mrandom\u001b[38;5;241m.\u001b[39mnormal(size\u001b[38;5;241m=\u001b[39mx_0\u001b[38;5;241m.\u001b[39mshape))\u001b[38;5;241m.\u001b[39mto(\u001b[38;5;28mself\u001b[39m\u001b[38;5;241m.\u001b[39mdevice)\n\u001b[0;32m--> 115\u001b[0m x_noise \u001b[38;5;241m=\u001b[39m \u001b[38;5;28;43mself\u001b[39;49m\u001b[38;5;241;43m.\u001b[39;49m\u001b[43mq_sample\u001b[49m\u001b[43m(\u001b[49m\u001b[43mx_0\u001b[49m\u001b[43m,\u001b[49m\u001b[43m \u001b[49m\u001b[43mt\u001b[49m\u001b[43m,\u001b[49m\u001b[43m \u001b[49m\u001b[43mnoise\u001b[49m\u001b[43m)\u001b[49m\n\u001b[1;32m    116\u001b[0m noise_recon \u001b[38;5;241m=\u001b[39m \u001b[38;5;28mself\u001b[39m\u001b[38;5;241m.\u001b[39mforward(x_noise, t)\n\u001b[1;32m    117\u001b[0m mse \u001b[38;5;241m=\u001b[39m torch\u001b[38;5;241m.\u001b[39msquare(noise_recon \u001b[38;5;241m-\u001b[39m noise)\n",
      "File \u001b[0;32m~/work/fall_2024/energy-based-diffusion-model/diffusion.py:107\u001b[0m, in \u001b[0;36mDiffusionModel.q_sample\u001b[0;34m(self, x_0, t, noise)\u001b[0m\n\u001b[1;32m    104\u001b[0m \u001b[38;5;28;01mif\u001b[39;00m noise \u001b[38;5;129;01mis\u001b[39;00m \u001b[38;5;28;01mNone\u001b[39;00m:\n\u001b[1;32m    105\u001b[0m   noise \u001b[38;5;241m=\u001b[39m np\u001b[38;5;241m.\u001b[39mrandom\u001b[38;5;241m.\u001b[39mnormal(size\u001b[38;5;241m=\u001b[39mx_0\u001b[38;5;241m.\u001b[39mshape)\n\u001b[0;32m--> 107\u001b[0m x_t \u001b[38;5;241m=\u001b[39m \u001b[43mextract\u001b[49m\u001b[43m(\u001b[49m\u001b[38;5;28;43mself\u001b[39;49m\u001b[38;5;241;43m.\u001b[39;49m\u001b[43m_sqrt_alphas_cumprod\u001b[49m\u001b[43m,\u001b[49m\u001b[43m \u001b[49m\u001b[43mt\u001b[49m\u001b[43m,\u001b[49m\u001b[43m \u001b[49m\u001b[43mx_0\u001b[49m\u001b[38;5;241;43m.\u001b[39;49m\u001b[43mshape\u001b[49m\u001b[43m)\u001b[49m\u001b[38;5;241;43m.\u001b[39;49m\u001b[43mto\u001b[49m\u001b[43m(\u001b[49m\u001b[38;5;28;43mself\u001b[39;49m\u001b[38;5;241;43m.\u001b[39;49m\u001b[43mdevice\u001b[49m\u001b[43m)\u001b[49m\u001b[43m \u001b[49m\u001b[38;5;241;43m*\u001b[39;49m\u001b[43m \u001b[49m\u001b[43mx_0\u001b[49m \u001b[38;5;241m+\u001b[39m extract(\n\u001b[1;32m    108\u001b[0m     \u001b[38;5;28mself\u001b[39m\u001b[38;5;241m.\u001b[39m_sqrt_one_minus_alphas_cumprod, t, x_0\u001b[38;5;241m.\u001b[39mshape)\u001b[38;5;241m.\u001b[39mto(\u001b[38;5;28mself\u001b[39m\u001b[38;5;241m.\u001b[39mdevice) \u001b[38;5;241m*\u001b[39m noise\u001b[38;5;241m.\u001b[39mto(\u001b[38;5;28mself\u001b[39m\u001b[38;5;241m.\u001b[39mdevice)\n\u001b[1;32m    110\u001b[0m \u001b[38;5;28;01mreturn\u001b[39;00m x_t\n",
      "\u001b[0;31mRuntimeError\u001b[0m: Expected all tensors to be on the same device, but found at least two devices, cuda:0 and cpu!"
     ]
    }
   ],
   "source": [
    "losses = []\n",
    "test_logpx = []\n",
    "itr = 0\n",
    "\n",
    "ddpm.train()\n",
    "optimizer = torch.optim.Adam(ddpm.parameters(), lr=1e-3)\n",
    "\n",
    "\n",
    "for itr in range(num_steps):\n",
    "    ddpm.train()\n",
    "    \n",
    "    x = torch.from_numpy(dataset_sample(batch_size)).float()\n",
    "\n",
    "    x = x.reshape(x.shape[0], -1)\n",
    "    start_time = time.time()\n",
    "\n",
    "    loss = ddpm.loss(x)\n",
    "    loss = loss.mean()\n",
    "    loss.backward()\n",
    "    optimizer.step()\n",
    "    optimizer.zero_grad()\n",
    "\n",
    "    duration_update = time.time() - start_time\n",
    "\n",
    "    if itr % 100 == 0:\n",
    "        print(itr, loss, \"time:\", duration_update)\n",
    "        losses.append(loss)\n",
    "        \n",
    "    if itr % 1000 == 0:\n",
    "        ddpm.eval()\n",
    "        x_samp = ddpm.sample(batch_size)\n",
    "\n",
    "        plot_samples(x_samp.detach().numpy())\n",
    "        plt.show()\n",
    "\n",
    "\n",
    "        for t in range(10):\n",
    "            dist_show_2d(lambda x: logp_unnorm(ebm_net, ddpm, x, 10 * t), xr=xr, yr=yr)\n",
    "            plt.show()"
   ]
  },
  {
   "cell_type": "code",
   "execution_count": null,
   "id": "c95ffc76",
   "metadata": {},
   "outputs": [],
   "source": []
  }
 ],
 "metadata": {
  "kernelspec": {
   "display_name": "ebm",
   "language": "python",
   "name": "ebm"
  },
  "language_info": {
   "codemirror_mode": {
    "name": "ipython",
    "version": 3
   },
   "file_extension": ".py",
   "mimetype": "text/x-python",
   "name": "python",
   "nbconvert_exporter": "python",
   "pygments_lexer": "ipython3",
   "version": "3.10.12"
  }
 },
 "nbformat": 4,
 "nbformat_minor": 5
}
